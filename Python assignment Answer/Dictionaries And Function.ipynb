{
 "cells": [
  {
   "cell_type": "markdown",
   "id": "6cbca6a9",
   "metadata": {},
   "source": [
    "1.1 Write a Python Program(with class concepts) to find the area of the triangle using the below\n",
    "formula.\n",
    "area = (s*(s-a)*(s-b)*(s-c)) ** 0.5\n",
    "Function to take the length of the sides of triangle from user should be defined in the parent\n",
    "class and function to calculate the area should be defined in subclass."
   ]
  },
  {
   "cell_type": "markdown",
   "id": "4b4669d0",
   "metadata": {},
   "source": [
    "Doing it without class concept"
   ]
  },
  {
   "cell_type": "code",
   "execution_count": 27,
   "id": "3c7173f1",
   "metadata": {},
   "outputs": [],
   "source": [
    "def areaoftriangle(a,b,c):\n",
    "    try:\n",
    "        if(a==0 or b==0 or c==0):\n",
    "            raise Exception (\"Sides can't be zero\")\n",
    "        if(a+b>c and b+c>a and a+c>b):\n",
    "            s = a+b+c\n",
    "            return s*(s-a)*(s-b)*(s-c) * 0.5\n",
    "        else:\n",
    "            raise Exception (\"Sum of two sides of triangle must be greater than third side\")\n",
    "    except Exception as e:\n",
    "        print(e)\n",
    "    "
   ]
  },
  {
   "cell_type": "code",
   "execution_count": 30,
   "id": "2c0b023b",
   "metadata": {},
   "outputs": [
    {
     "name": "stdout",
     "output_type": "stream",
     "text": [
      "'>' not supported between instances of 'int' and 'str'\n"
     ]
    }
   ],
   "source": [
    "areaoftriangle(3,4,\"sk\")"
   ]
  },
  {
   "cell_type": "markdown",
   "id": "bd65b2f9",
   "metadata": {},
   "source": [
    "1.2 Write a function filter_long_words() that takes a list of words and an integer n and returns\n",
    "the list of words that are longer than n."
   ]
  },
  {
   "cell_type": "code",
   "execution_count": 31,
   "id": "2957e259",
   "metadata": {},
   "outputs": [],
   "source": [
    "def filter_long_words(seq,n):\n",
    "    l1 = []\n",
    "    for i in seq:\n",
    "        if(len(i)>n):\n",
    "            l1.append(i)\n",
    "    return l1"
   ]
  },
  {
   "cell_type": "code",
   "execution_count": 32,
   "id": "0988bea9",
   "metadata": {},
   "outputs": [
    {
     "data": {
      "text/plain": [
       "['sumit', 'kumar']"
      ]
     },
     "execution_count": 32,
     "metadata": {},
     "output_type": "execute_result"
    }
   ],
   "source": [
    "filter_long_words([\"sumit\",\"kumar\",\"ok\"],3)"
   ]
  },
  {
   "cell_type": "markdown",
   "id": "c19f03a6",
   "metadata": {},
   "source": [
    "2.1 Write a Python program using function concept that maps list of words into a list of integers\n",
    "representing the lengths of the corresponding words.\n",
    "Hint: If a list [ ab,cde,erty] is passed on to the python function output should come as [2,3,4]\n",
    "Here 2,3 and 4 are the lengths of the words in the list."
   ]
  },
  {
   "cell_type": "code",
   "execution_count": 33,
   "id": "6ca558f2",
   "metadata": {},
   "outputs": [],
   "source": [
    "def listofinteger(seq):\n",
    "    l1 = []\n",
    "    for i in seq:\n",
    "        l1.append(len(i))\n",
    "    return l1"
   ]
  },
  {
   "cell_type": "code",
   "execution_count": 35,
   "id": "cd3eb343",
   "metadata": {},
   "outputs": [
    {
     "data": {
      "text/plain": [
       "[2, 3, 4]"
      ]
     },
     "execution_count": 35,
     "metadata": {},
     "output_type": "execute_result"
    }
   ],
   "source": [
    "listofinteger([ 'ab','cde','erty'])"
   ]
  },
  {
   "cell_type": "markdown",
   "id": "a41a4854",
   "metadata": {},
   "source": [
    "2.2 Write a Python function which takes a character (i.e. a string of length 1) and returns True if\n",
    "it is a vowel, False otherwise."
   ]
  },
  {
   "cell_type": "code",
   "execution_count": 36,
   "id": "d10850f3",
   "metadata": {},
   "outputs": [],
   "source": [
    "def isvowel(n):\n",
    "    if(n=='a' or n=='e' or n=='i' or n=='o' or n=='u'):\n",
    "        return True\n",
    "    else:\n",
    "        return False\n",
    "    "
   ]
  },
  {
   "cell_type": "code",
   "execution_count": 38,
   "id": "af9fd5a2",
   "metadata": {},
   "outputs": [
    {
     "data": {
      "text/plain": [
       "False"
      ]
     },
     "execution_count": 38,
     "metadata": {},
     "output_type": "execute_result"
    }
   ],
   "source": [
    "isvowel('b')"
   ]
  },
  {
   "cell_type": "code",
   "execution_count": null,
   "id": "3beeca86",
   "metadata": {},
   "outputs": [],
   "source": []
  }
 ],
 "metadata": {
  "kernelspec": {
   "display_name": "Python 3 (ipykernel)",
   "language": "python",
   "name": "python3"
  },
  "language_info": {
   "codemirror_mode": {
    "name": "ipython",
    "version": 3
   },
   "file_extension": ".py",
   "mimetype": "text/x-python",
   "name": "python",
   "nbconvert_exporter": "python",
   "pygments_lexer": "ipython3",
   "version": "3.9.6"
  }
 },
 "nbformat": 4,
 "nbformat_minor": 5
}
