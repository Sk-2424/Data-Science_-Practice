{
 "cells": [
  {
   "cell_type": "code",
   "execution_count": 1,
   "id": "f3ed151d",
   "metadata": {},
   "outputs": [],
   "source": [
    "import pandas as pd \n",
    "import numpy as np"
   ]
  },
  {
   "cell_type": "markdown",
   "id": "0a54a3d0",
   "metadata": {},
   "source": [
    "Write a function so that the columns of the output matrix are powers of the input\n",
    "vector."
   ]
  },
  {
   "cell_type": "code",
   "execution_count": 53,
   "id": "0d7983df",
   "metadata": {},
   "outputs": [
    {
     "name": "stdout",
     "output_type": "stream",
     "text": [
      "Enter the array element ---> 1 2 3 4 5\n",
      "Enter number of column ---> 5\n",
      "Vandermode matrix in increasing power\n",
      " ---------------------------------------- \n",
      " [[  1   1   1   1   1]\n",
      " [  1   2   4   8  16]\n",
      " [  1   3   9  27  81]\n",
      " [  1   4  16  64 256]\n",
      " [  1   5  25 125 625]] \n",
      "\n",
      "Vandermode matrix in decreasing power\n",
      " ---------------------------------------- \n",
      " [[  1   1   1   1   1]\n",
      " [ 16   8   4   2   1]\n",
      " [ 81  27   9   3   1]\n",
      " [256  64  16   4   1]\n",
      " [625 125  25   5   1]]\n"
     ]
    }
   ],
   "source": [
    "def vandermodematrix(l,n):\n",
    "    l1 = []\n",
    "    for i in l:\n",
    "        for j in range(0,n):\n",
    "            l1.append(pow(i,j))\n",
    "    l2 = np.array(l1).reshape(-1,n)\n",
    "    \n",
    "    l3 = []\n",
    "    for i in l:\n",
    "        num = n\n",
    "        for j in range(0,num):\n",
    "            l3.append(pow(i,num-1))\n",
    "            num=num-1\n",
    "    l4 = np.array(l3).reshape(-1,n)\n",
    "    \n",
    "    return l2,l4\n",
    "    \n",
    "    \n",
    "input_array = list(map(int,input(\"Enter the array element ---> \").strip().split(' ')))\n",
    "col = int(input(\"Enter number of column ---> \"))\n",
    "incr,dcr = vandermodematrix(input_array,col)\n",
    "print(\"Vandermode matrix in increasing power\\n\",\"-\"*40,\"\\n\" ,incr,\"\\n\")\n",
    "print(\"Vandermode matrix in decreasing power\\n\",\"-\"*40,\"\\n\" ,dcr)"
   ]
  },
  {
   "cell_type": "markdown",
   "id": "5486376a",
   "metadata": {},
   "source": [
    "Write a function to find moving average in an array over a window:\n",
    "Test it over [3, 5, 7, 2, 8, 10, 11, 65, 72, 81, 99, 100, 150] and window of 3."
   ]
  },
  {
   "cell_type": "code",
   "execution_count": 15,
   "id": "9dc5e1bb",
   "metadata": {},
   "outputs": [
    {
     "name": "stdout",
     "output_type": "stream",
     "text": [
      "y1  5.0\n",
      "y2  4.67\n",
      "y3  5.67\n",
      "y4  6.67\n",
      "y5  9.67\n",
      "y6  28.67\n",
      "y7  49.33\n",
      "y8  72.67\n",
      "y9  84.0\n",
      "y10  93.33\n",
      "y11  116.33\n"
     ]
    }
   ],
   "source": [
    "def movingaverage(l,k):\n",
    "    movingavg = len(l)-k+1\n",
    "    for i in range(0,movingavg):\n",
    "        sum_list = l[i:i+3]\n",
    "        sum = np.sum(sum_list)\n",
    "        print(f'y{i+1} ',round(sum/k,2))\n",
    "        \n",
    "\n",
    "l1= [3, 5, 7, 2, 8, 10, 11, 65, 72, 81, 99, 100, 150]\n",
    "k = 3\n",
    "movingaverage(l1,k)"
   ]
  }
 ],
 "metadata": {
  "kernelspec": {
   "display_name": "Python 3 (ipykernel)",
   "language": "python",
   "name": "python3"
  },
  "language_info": {
   "codemirror_mode": {
    "name": "ipython",
    "version": 3
   },
   "file_extension": ".py",
   "mimetype": "text/x-python",
   "name": "python",
   "nbconvert_exporter": "python",
   "pygments_lexer": "ipython3",
   "version": "3.9.6"
  }
 },
 "nbformat": 4,
 "nbformat_minor": 5
}
