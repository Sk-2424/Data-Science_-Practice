{
 "cells": [
  {
   "cell_type": "code",
   "execution_count": 1,
   "id": "6500c2aa",
   "metadata": {},
   "outputs": [],
   "source": [
    "import pandas as pd\n",
    "import numpy as np\n",
    "from matplotlib import pyplot as plt"
   ]
  },
  {
   "cell_type": "code",
   "execution_count": 2,
   "id": "fb97fe7d",
   "metadata": {},
   "outputs": [
    {
     "data": {
      "text/html": [
       "<div>\n",
       "<style scoped>\n",
       "    .dataframe tbody tr th:only-of-type {\n",
       "        vertical-align: middle;\n",
       "    }\n",
       "\n",
       "    .dataframe tbody tr th {\n",
       "        vertical-align: top;\n",
       "    }\n",
       "\n",
       "    .dataframe thead th {\n",
       "        text-align: right;\n",
       "    }\n",
       "</style>\n",
       "<table border=\"1\" class=\"dataframe\">\n",
       "  <thead>\n",
       "    <tr style=\"text-align: right;\">\n",
       "      <th></th>\n",
       "      <th>DATE</th>\n",
       "      <th>SP500</th>\n",
       "      <th>NASDAQ.AAL</th>\n",
       "      <th>NASDAQ.AAPL</th>\n",
       "      <th>NASDAQ.ADBE</th>\n",
       "      <th>NASDAQ.ADI</th>\n",
       "      <th>NASDAQ.ADP</th>\n",
       "      <th>NASDAQ.ADSK</th>\n",
       "      <th>NASDAQ.AKAM</th>\n",
       "      <th>NASDAQ.ALXN</th>\n",
       "      <th>...</th>\n",
       "      <th>NYSE.WYN</th>\n",
       "      <th>NYSE.XEC</th>\n",
       "      <th>NYSE.XEL</th>\n",
       "      <th>NYSE.XL</th>\n",
       "      <th>NYSE.XOM</th>\n",
       "      <th>NYSE.XRX</th>\n",
       "      <th>NYSE.XYL</th>\n",
       "      <th>NYSE.YUM</th>\n",
       "      <th>NYSE.ZBH</th>\n",
       "      <th>NYSE.ZTS</th>\n",
       "    </tr>\n",
       "  </thead>\n",
       "  <tbody>\n",
       "    <tr>\n",
       "      <th>0</th>\n",
       "      <td>1491226200</td>\n",
       "      <td>2363.6101</td>\n",
       "      <td>42.3300</td>\n",
       "      <td>143.6800</td>\n",
       "      <td>129.6300</td>\n",
       "      <td>82.040</td>\n",
       "      <td>102.2300</td>\n",
       "      <td>85.2200</td>\n",
       "      <td>59.760</td>\n",
       "      <td>121.520</td>\n",
       "      <td>...</td>\n",
       "      <td>84.370</td>\n",
       "      <td>119.035</td>\n",
       "      <td>44.400</td>\n",
       "      <td>39.880</td>\n",
       "      <td>82.030</td>\n",
       "      <td>7.360</td>\n",
       "      <td>50.220</td>\n",
       "      <td>63.86</td>\n",
       "      <td>122.000</td>\n",
       "      <td>53.3500</td>\n",
       "    </tr>\n",
       "    <tr>\n",
       "      <th>1</th>\n",
       "      <td>1491226260</td>\n",
       "      <td>2364.1001</td>\n",
       "      <td>42.3600</td>\n",
       "      <td>143.7000</td>\n",
       "      <td>130.3200</td>\n",
       "      <td>82.080</td>\n",
       "      <td>102.1400</td>\n",
       "      <td>85.6500</td>\n",
       "      <td>59.840</td>\n",
       "      <td>121.480</td>\n",
       "      <td>...</td>\n",
       "      <td>84.370</td>\n",
       "      <td>119.035</td>\n",
       "      <td>44.110</td>\n",
       "      <td>39.880</td>\n",
       "      <td>82.030</td>\n",
       "      <td>7.380</td>\n",
       "      <td>50.220</td>\n",
       "      <td>63.74</td>\n",
       "      <td>121.770</td>\n",
       "      <td>53.3500</td>\n",
       "    </tr>\n",
       "    <tr>\n",
       "      <th>2</th>\n",
       "      <td>1491226320</td>\n",
       "      <td>2362.6799</td>\n",
       "      <td>42.3100</td>\n",
       "      <td>143.6901</td>\n",
       "      <td>130.2250</td>\n",
       "      <td>82.030</td>\n",
       "      <td>102.2125</td>\n",
       "      <td>85.5100</td>\n",
       "      <td>59.795</td>\n",
       "      <td>121.930</td>\n",
       "      <td>...</td>\n",
       "      <td>84.585</td>\n",
       "      <td>119.260</td>\n",
       "      <td>44.090</td>\n",
       "      <td>39.980</td>\n",
       "      <td>82.020</td>\n",
       "      <td>7.360</td>\n",
       "      <td>50.120</td>\n",
       "      <td>63.75</td>\n",
       "      <td>121.700</td>\n",
       "      <td>53.3650</td>\n",
       "    </tr>\n",
       "    <tr>\n",
       "      <th>3</th>\n",
       "      <td>1491226380</td>\n",
       "      <td>2364.3101</td>\n",
       "      <td>42.3700</td>\n",
       "      <td>143.6400</td>\n",
       "      <td>130.0729</td>\n",
       "      <td>82.000</td>\n",
       "      <td>102.1400</td>\n",
       "      <td>85.4872</td>\n",
       "      <td>59.620</td>\n",
       "      <td>121.440</td>\n",
       "      <td>...</td>\n",
       "      <td>84.460</td>\n",
       "      <td>119.260</td>\n",
       "      <td>44.250</td>\n",
       "      <td>39.990</td>\n",
       "      <td>82.020</td>\n",
       "      <td>7.350</td>\n",
       "      <td>50.160</td>\n",
       "      <td>63.88</td>\n",
       "      <td>121.700</td>\n",
       "      <td>53.3800</td>\n",
       "    </tr>\n",
       "    <tr>\n",
       "      <th>4</th>\n",
       "      <td>1491226440</td>\n",
       "      <td>2364.8501</td>\n",
       "      <td>42.5378</td>\n",
       "      <td>143.6600</td>\n",
       "      <td>129.8800</td>\n",
       "      <td>82.035</td>\n",
       "      <td>102.0600</td>\n",
       "      <td>85.7001</td>\n",
       "      <td>59.620</td>\n",
       "      <td>121.600</td>\n",
       "      <td>...</td>\n",
       "      <td>84.470</td>\n",
       "      <td>119.610</td>\n",
       "      <td>44.110</td>\n",
       "      <td>39.960</td>\n",
       "      <td>82.030</td>\n",
       "      <td>7.360</td>\n",
       "      <td>50.200</td>\n",
       "      <td>63.91</td>\n",
       "      <td>121.695</td>\n",
       "      <td>53.2400</td>\n",
       "    </tr>\n",
       "    <tr>\n",
       "      <th>...</th>\n",
       "      <td>...</td>\n",
       "      <td>...</td>\n",
       "      <td>...</td>\n",
       "      <td>...</td>\n",
       "      <td>...</td>\n",
       "      <td>...</td>\n",
       "      <td>...</td>\n",
       "      <td>...</td>\n",
       "      <td>...</td>\n",
       "      <td>...</td>\n",
       "      <td>...</td>\n",
       "      <td>...</td>\n",
       "      <td>...</td>\n",
       "      <td>...</td>\n",
       "      <td>...</td>\n",
       "      <td>...</td>\n",
       "      <td>...</td>\n",
       "      <td>...</td>\n",
       "      <td>...</td>\n",
       "      <td>...</td>\n",
       "      <td>...</td>\n",
       "    </tr>\n",
       "    <tr>\n",
       "      <th>41261</th>\n",
       "      <td>1504209360</td>\n",
       "      <td>2472.2200</td>\n",
       "      <td>44.7200</td>\n",
       "      <td>164.1100</td>\n",
       "      <td>155.0900</td>\n",
       "      <td>83.670</td>\n",
       "      <td>106.5650</td>\n",
       "      <td>114.4900</td>\n",
       "      <td>47.150</td>\n",
       "      <td>142.425</td>\n",
       "      <td>...</td>\n",
       "      <td>99.675</td>\n",
       "      <td>99.530</td>\n",
       "      <td>49.485</td>\n",
       "      <td>40.955</td>\n",
       "      <td>76.360</td>\n",
       "      <td>32.285</td>\n",
       "      <td>62.110</td>\n",
       "      <td>76.88</td>\n",
       "      <td>114.310</td>\n",
       "      <td>62.7250</td>\n",
       "    </tr>\n",
       "    <tr>\n",
       "      <th>41262</th>\n",
       "      <td>1504209420</td>\n",
       "      <td>2471.7700</td>\n",
       "      <td>44.7300</td>\n",
       "      <td>164.1200</td>\n",
       "      <td>155.1600</td>\n",
       "      <td>83.650</td>\n",
       "      <td>106.5900</td>\n",
       "      <td>114.5200</td>\n",
       "      <td>47.150</td>\n",
       "      <td>142.450</td>\n",
       "      <td>...</td>\n",
       "      <td>99.730</td>\n",
       "      <td>99.630</td>\n",
       "      <td>49.480</td>\n",
       "      <td>40.960</td>\n",
       "      <td>76.370</td>\n",
       "      <td>32.295</td>\n",
       "      <td>62.100</td>\n",
       "      <td>76.90</td>\n",
       "      <td>114.330</td>\n",
       "      <td>62.7100</td>\n",
       "    </tr>\n",
       "    <tr>\n",
       "      <th>41263</th>\n",
       "      <td>1504209480</td>\n",
       "      <td>2470.0300</td>\n",
       "      <td>44.7400</td>\n",
       "      <td>164.0100</td>\n",
       "      <td>155.0650</td>\n",
       "      <td>83.620</td>\n",
       "      <td>106.5200</td>\n",
       "      <td>114.4700</td>\n",
       "      <td>47.150</td>\n",
       "      <td>142.330</td>\n",
       "      <td>...</td>\n",
       "      <td>99.735</td>\n",
       "      <td>99.640</td>\n",
       "      <td>49.495</td>\n",
       "      <td>40.940</td>\n",
       "      <td>76.315</td>\n",
       "      <td>32.290</td>\n",
       "      <td>62.090</td>\n",
       "      <td>76.88</td>\n",
       "      <td>114.310</td>\n",
       "      <td>62.6850</td>\n",
       "    </tr>\n",
       "    <tr>\n",
       "      <th>41264</th>\n",
       "      <td>1504209540</td>\n",
       "      <td>2471.4900</td>\n",
       "      <td>44.7100</td>\n",
       "      <td>163.8800</td>\n",
       "      <td>154.9600</td>\n",
       "      <td>83.580</td>\n",
       "      <td>106.4000</td>\n",
       "      <td>114.3300</td>\n",
       "      <td>47.135</td>\n",
       "      <td>142.170</td>\n",
       "      <td>...</td>\n",
       "      <td>99.700</td>\n",
       "      <td>99.630</td>\n",
       "      <td>49.485</td>\n",
       "      <td>40.925</td>\n",
       "      <td>76.300</td>\n",
       "      <td>32.275</td>\n",
       "      <td>62.075</td>\n",
       "      <td>76.83</td>\n",
       "      <td>114.230</td>\n",
       "      <td>62.6301</td>\n",
       "    </tr>\n",
       "    <tr>\n",
       "      <th>41265</th>\n",
       "      <td>1504209600</td>\n",
       "      <td>2471.4900</td>\n",
       "      <td>44.7400</td>\n",
       "      <td>163.9800</td>\n",
       "      <td>155.1600</td>\n",
       "      <td>83.690</td>\n",
       "      <td>106.4700</td>\n",
       "      <td>114.4600</td>\n",
       "      <td>47.150</td>\n",
       "      <td>142.410</td>\n",
       "      <td>...</td>\n",
       "      <td>99.670</td>\n",
       "      <td>99.640</td>\n",
       "      <td>49.490</td>\n",
       "      <td>40.940</td>\n",
       "      <td>76.320</td>\n",
       "      <td>32.270</td>\n",
       "      <td>62.070</td>\n",
       "      <td>76.81</td>\n",
       "      <td>114.280</td>\n",
       "      <td>62.6800</td>\n",
       "    </tr>\n",
       "  </tbody>\n",
       "</table>\n",
       "<p>41266 rows × 502 columns</p>\n",
       "</div>"
      ],
      "text/plain": [
       "             DATE      SP500  NASDAQ.AAL  NASDAQ.AAPL  NASDAQ.ADBE  \\\n",
       "0      1491226200  2363.6101     42.3300     143.6800     129.6300   \n",
       "1      1491226260  2364.1001     42.3600     143.7000     130.3200   \n",
       "2      1491226320  2362.6799     42.3100     143.6901     130.2250   \n",
       "3      1491226380  2364.3101     42.3700     143.6400     130.0729   \n",
       "4      1491226440  2364.8501     42.5378     143.6600     129.8800   \n",
       "...           ...        ...         ...          ...          ...   \n",
       "41261  1504209360  2472.2200     44.7200     164.1100     155.0900   \n",
       "41262  1504209420  2471.7700     44.7300     164.1200     155.1600   \n",
       "41263  1504209480  2470.0300     44.7400     164.0100     155.0650   \n",
       "41264  1504209540  2471.4900     44.7100     163.8800     154.9600   \n",
       "41265  1504209600  2471.4900     44.7400     163.9800     155.1600   \n",
       "\n",
       "       NASDAQ.ADI  NASDAQ.ADP  NASDAQ.ADSK  NASDAQ.AKAM  NASDAQ.ALXN  ...  \\\n",
       "0          82.040    102.2300      85.2200       59.760      121.520  ...   \n",
       "1          82.080    102.1400      85.6500       59.840      121.480  ...   \n",
       "2          82.030    102.2125      85.5100       59.795      121.930  ...   \n",
       "3          82.000    102.1400      85.4872       59.620      121.440  ...   \n",
       "4          82.035    102.0600      85.7001       59.620      121.600  ...   \n",
       "...           ...         ...          ...          ...          ...  ...   \n",
       "41261      83.670    106.5650     114.4900       47.150      142.425  ...   \n",
       "41262      83.650    106.5900     114.5200       47.150      142.450  ...   \n",
       "41263      83.620    106.5200     114.4700       47.150      142.330  ...   \n",
       "41264      83.580    106.4000     114.3300       47.135      142.170  ...   \n",
       "41265      83.690    106.4700     114.4600       47.150      142.410  ...   \n",
       "\n",
       "       NYSE.WYN  NYSE.XEC  NYSE.XEL  NYSE.XL  NYSE.XOM  NYSE.XRX  NYSE.XYL  \\\n",
       "0        84.370   119.035    44.400   39.880    82.030     7.360    50.220   \n",
       "1        84.370   119.035    44.110   39.880    82.030     7.380    50.220   \n",
       "2        84.585   119.260    44.090   39.980    82.020     7.360    50.120   \n",
       "3        84.460   119.260    44.250   39.990    82.020     7.350    50.160   \n",
       "4        84.470   119.610    44.110   39.960    82.030     7.360    50.200   \n",
       "...         ...       ...       ...      ...       ...       ...       ...   \n",
       "41261    99.675    99.530    49.485   40.955    76.360    32.285    62.110   \n",
       "41262    99.730    99.630    49.480   40.960    76.370    32.295    62.100   \n",
       "41263    99.735    99.640    49.495   40.940    76.315    32.290    62.090   \n",
       "41264    99.700    99.630    49.485   40.925    76.300    32.275    62.075   \n",
       "41265    99.670    99.640    49.490   40.940    76.320    32.270    62.070   \n",
       "\n",
       "       NYSE.YUM  NYSE.ZBH  NYSE.ZTS  \n",
       "0         63.86   122.000   53.3500  \n",
       "1         63.74   121.770   53.3500  \n",
       "2         63.75   121.700   53.3650  \n",
       "3         63.88   121.700   53.3800  \n",
       "4         63.91   121.695   53.2400  \n",
       "...         ...       ...       ...  \n",
       "41261     76.88   114.310   62.7250  \n",
       "41262     76.90   114.330   62.7100  \n",
       "41263     76.88   114.310   62.6850  \n",
       "41264     76.83   114.230   62.6301  \n",
       "41265     76.81   114.280   62.6800  \n",
       "\n",
       "[41266 rows x 502 columns]"
      ]
     },
     "execution_count": 2,
     "metadata": {},
     "output_type": "execute_result"
    }
   ],
   "source": [
    "df = pd.read_csv('data_stocks.csv')\n",
    "df"
   ]
  },
  {
   "cell_type": "code",
   "execution_count": 3,
   "id": "f64a7497",
   "metadata": {},
   "outputs": [
    {
     "data": {
      "text/plain": [
       "DATE           0\n",
       "SP500          0\n",
       "NASDAQ.AAL     0\n",
       "NASDAQ.AAPL    0\n",
       "NASDAQ.ADBE    0\n",
       "              ..\n",
       "NYSE.XRX       0\n",
       "NYSE.XYL       0\n",
       "NYSE.YUM       0\n",
       "NYSE.ZBH       0\n",
       "NYSE.ZTS       0\n",
       "Length: 502, dtype: int64"
      ]
     },
     "execution_count": 3,
     "metadata": {},
     "output_type": "execute_result"
    }
   ],
   "source": [
    "df.isna().sum()"
   ]
  },
  {
   "cell_type": "code",
   "execution_count": 4,
   "id": "80b2bcc6",
   "metadata": {},
   "outputs": [],
   "source": [
    "col = [column for column in df.columns if df[column].std()==0]"
   ]
  },
  {
   "cell_type": "code",
   "execution_count": 5,
   "id": "3b5ed2f3",
   "metadata": {},
   "outputs": [
    {
     "data": {
      "text/plain": [
       "0"
      ]
     },
     "execution_count": 5,
     "metadata": {},
     "output_type": "execute_result"
    }
   ],
   "source": [
    "len(col)"
   ]
  },
  {
   "cell_type": "code",
   "execution_count": 6,
   "id": "07863a7e",
   "metadata": {},
   "outputs": [],
   "source": [
    "#No missing values\n",
    "# No std deviation equal to zero"
   ]
  },
  {
   "cell_type": "code",
   "execution_count": 7,
   "id": "2cb24676",
   "metadata": {},
   "outputs": [],
   "source": [
    "from sklearn.decomposition import PCA"
   ]
  },
  {
   "cell_type": "code",
   "execution_count": 8,
   "id": "6cabaff2",
   "metadata": {},
   "outputs": [],
   "source": [
    "from sklearn.preprocessing import StandardScaler"
   ]
  },
  {
   "cell_type": "code",
   "execution_count": 9,
   "id": "ee91fd39",
   "metadata": {},
   "outputs": [],
   "source": [
    "sc = StandardScaler()"
   ]
  },
  {
   "cell_type": "code",
   "execution_count": 10,
   "id": "9de33126",
   "metadata": {},
   "outputs": [],
   "source": [
    "X= sc.fit_transform(df)"
   ]
  },
  {
   "cell_type": "code",
   "execution_count": 11,
   "id": "496c4d3c",
   "metadata": {},
   "outputs": [
    {
     "data": {
      "text/plain": [
       "(41266, 502)"
      ]
     },
     "execution_count": 11,
     "metadata": {},
     "output_type": "execute_result"
    }
   ],
   "source": [
    "X.shape"
   ]
  },
  {
   "cell_type": "code",
   "execution_count": 12,
   "id": "798489f7",
   "metadata": {},
   "outputs": [
    {
     "data": {
      "image/png": "[encoded data removed]",
      "text/plain": [
       "<Figure size 504x432 with 1 Axes>"
      ]
     },
     "metadata": {
      "needs_background": "light"
     },
     "output_type": "display_data"
    }
   ],
   "source": [
    "pca = PCA()\n",
    "pc = pca.fit_transform(X)\n",
    "plt.figure(figsize=(7,6))\n",
    "plt.plot(np.cumsum(pca.explained_variance_ratio_))\n",
    "plt.xlabel('Pricipal Component')\n",
    "plt.ylabel('Varaince Percentage')\n",
    "plt.show()"
   ]
  },
  {
   "cell_type": "code",
   "execution_count": 13,
   "id": "8f82bba8",
   "metadata": {},
   "outputs": [],
   "source": [
    "l1 = []\n",
    "for i in range(0,25):\n",
    "    st = 'pc'+str(i)\n",
    "    l1.append(st)\n"
   ]
  },
  {
   "cell_type": "code",
   "execution_count": 15,
   "id": "ba5e0b03",
   "metadata": {},
   "outputs": [],
   "source": [
    "pca = PCA(n_components=2)\n",
    "new_data = pca.fit_transform(X)\n",
    "# This will be the new data fed to the algorithm.\n",
    "principal_Df = pd.DataFrame(data = new_data, columns = ['pc1','pc2'])"
   ]
  },
  {
   "cell_type": "code",
   "execution_count": 16,
   "id": "1d192b3e",
   "metadata": {},
   "outputs": [
    {
     "data": {
      "text/html": [
       "<div>\n",
       "<style scoped>\n",
       "    .dataframe tbody tr th:only-of-type {\n",
       "        vertical-align: middle;\n",
       "    }\n",
       "\n",
       "    .dataframe tbody tr th {\n",
       "        vertical-align: top;\n",
       "    }\n",
       "\n",
       "    .dataframe thead th {\n",
       "        text-align: right;\n",
       "    }\n",
       "</style>\n",
       "<table border=\"1\" class=\"dataframe\">\n",
       "  <thead>\n",
       "    <tr style=\"text-align: right;\">\n",
       "      <th></th>\n",
       "      <th>pc1</th>\n",
       "      <th>pc2</th>\n",
       "    </tr>\n",
       "  </thead>\n",
       "  <tbody>\n",
       "    <tr>\n",
       "      <th>0</th>\n",
       "      <td>25.647154</td>\n",
       "      <td>9.991542</td>\n",
       "    </tr>\n",
       "    <tr>\n",
       "      <th>1</th>\n",
       "      <td>25.744480</td>\n",
       "      <td>9.878093</td>\n",
       "    </tr>\n",
       "    <tr>\n",
       "      <th>2</th>\n",
       "      <td>25.661695</td>\n",
       "      <td>9.811347</td>\n",
       "    </tr>\n",
       "    <tr>\n",
       "      <th>3</th>\n",
       "      <td>25.764126</td>\n",
       "      <td>9.979938</td>\n",
       "    </tr>\n",
       "    <tr>\n",
       "      <th>4</th>\n",
       "      <td>25.675520</td>\n",
       "      <td>9.863466</td>\n",
       "    </tr>\n",
       "    <tr>\n",
       "      <th>...</th>\n",
       "      <td>...</td>\n",
       "      <td>...</td>\n",
       "    </tr>\n",
       "    <tr>\n",
       "      <th>41261</th>\n",
       "      <td>-22.879373</td>\n",
       "      <td>13.327705</td>\n",
       "    </tr>\n",
       "    <tr>\n",
       "      <th>41262</th>\n",
       "      <td>-22.908026</td>\n",
       "      <td>13.315272</td>\n",
       "    </tr>\n",
       "    <tr>\n",
       "      <th>41263</th>\n",
       "      <td>-22.858756</td>\n",
       "      <td>13.338018</td>\n",
       "    </tr>\n",
       "    <tr>\n",
       "      <th>41264</th>\n",
       "      <td>-22.705779</td>\n",
       "      <td>13.428202</td>\n",
       "    </tr>\n",
       "    <tr>\n",
       "      <th>41265</th>\n",
       "      <td>-22.813500</td>\n",
       "      <td>13.372771</td>\n",
       "    </tr>\n",
       "  </tbody>\n",
       "</table>\n",
       "<p>41266 rows × 2 columns</p>\n",
       "</div>"
      ],
      "text/plain": [
       "             pc1        pc2\n",
       "0      25.647154   9.991542\n",
       "1      25.744480   9.878093\n",
       "2      25.661695   9.811347\n",
       "3      25.764126   9.979938\n",
       "4      25.675520   9.863466\n",
       "...          ...        ...\n",
       "41261 -22.879373  13.327705\n",
       "41262 -22.908026  13.315272\n",
       "41263 -22.858756  13.338018\n",
       "41264 -22.705779  13.428202\n",
       "41265 -22.813500  13.372771\n",
       "\n",
       "[41266 rows x 2 columns]"
      ]
     },
     "execution_count": 16,
     "metadata": {},
     "output_type": "execute_result"
    }
   ],
   "source": [
    "principal_Df"
   ]
  },
  {
   "cell_type": "code",
   "execution_count": 17,
   "id": "b6472dec",
   "metadata": {},
   "outputs": [],
   "source": [
    "from sklearn.cluster import KMeans"
   ]
  },
  {
   "cell_type": "code",
   "execution_count": 20,
   "id": "a5be92d2",
   "metadata": {},
   "outputs": [
    {
     "data": {
      "image/png": "[encoded data removed]",
      "text/plain": [
       "<Figure size 504x360 with 1 Axes>"
      ]
     },
     "metadata": {
      "needs_background": "light"
     },
     "output_type": "display_data"
    }
   ],
   "source": [
    "wcss = []\n",
    "for i in range(1,11):\n",
    "    km = KMeans(n_clusters=i,init='k-means++',random_state=55)\n",
    "    km.fit(principal_Df)\n",
    "    wcss.append(km.inertia_)\n",
    "\n",
    "plt.figure(figsize=(7,5))\n",
    "plt.plot(range(1,11),wcss)\n",
    "plt.title('Elbow Method')\n",
    "plt.xlabel('No. of clusters')\n",
    "plt.ylabel('Wcss')\n",
    "plt.show()\n",
    "\n",
    "    "
   ]
  },
  {
   "cell_type": "code",
   "execution_count": 35,
   "id": "93aa3e57",
   "metadata": {},
   "outputs": [
    {
     "data": {
      "text/plain": [
       "KMeans(n_clusters=5, random_state=0)"
      ]
     },
     "execution_count": 35,
     "metadata": {},
     "output_type": "execute_result"
    }
   ],
   "source": [
    "## No. of clusters is 5 according to elbow method\n",
    "km = KMeans(n_clusters=5,init='k-means++',random_state=0)\n",
    "km.fit(principal_Df)"
   ]
  },
  {
   "cell_type": "code",
   "execution_count": 36,
   "id": "ce25c3ae",
   "metadata": {},
   "outputs": [],
   "source": [
    "y_kmeans=km.fit_predict(principal_Df)"
   ]
  },
  {
   "cell_type": "code",
   "execution_count": 37,
   "id": "64fab011",
   "metadata": {},
   "outputs": [
    {
     "data": {
      "text/plain": [
       "(41266,)"
      ]
     },
     "execution_count": 37,
     "metadata": {},
     "output_type": "execute_result"
    }
   ],
   "source": [
    "y_kmeans.shape"
   ]
  },
  {
   "cell_type": "code",
   "execution_count": 43,
   "id": "927c7061",
   "metadata": {},
   "outputs": [
    {
     "data": {
      "image/png": "[encoded data removed]",
      "text/plain": [
       "<Figure size 864x720 with 1 Axes>"
      ]
     },
     "metadata": {
      "needs_background": "light"
     },
     "output_type": "display_data"
    }
   ],
   "source": [
    "plt.figure(figsize=(12,10))\n",
    "plt.scatter(principal_Df[y_kmeans == 0]['pc1'], principal_Df[y_kmeans == 0]['pc2'],s = 100, c = 'red', label = 'Cluster 1')\n",
    "plt.scatter(principal_Df[y_kmeans == 1]['pc1'], principal_Df[y_kmeans == 1]['pc2'],s = 100, c = 'blue', label = 'Cluster 2')\n",
    "plt.scatter(principal_Df[y_kmeans == 2]['pc1'], principal_Df[y_kmeans == 2]['pc2'],s = 100, c = 'green', label = 'Cluster 3')\n",
    "plt.scatter(principal_Df[y_kmeans == 3]['pc1'], principal_Df[y_kmeans == 3]['pc2'],s = 100, c = 'cyan', label = 'Cluster 4')\n",
    "plt.scatter(principal_Df[y_kmeans == 4]['pc1'], principal_Df[y_kmeans == 4]['pc2'],s = 100, c = 'magenta', label = 'Cluster 5')\n",
    "plt.title('Clusters of stocks')\n",
    "plt.xlabel('Principal Component (1)')\n",
    "plt.ylabel('Principal Component (2)')\n",
    "plt.legend()\n",
    "plt.show()"
   ]
  },
  {
   "cell_type": "code",
   "execution_count": null,
   "id": "dccb14b5",
   "metadata": {},
   "outputs": [],
   "source": []
  }
 ],
 "metadata": {
  "kernelspec": {
   "display_name": "Python 3 (ipykernel)",
   "language": "python",
   "name": "python3"
  },
  "language_info": {
   "codemirror_mode": {
    "name": "ipython",
    "version": 3
   },
   "file_extension": ".py",
   "mimetype": "text/x-python",
   "name": "python",
   "nbconvert_exporter": "python",
   "pygments_lexer": "ipython3",
   "version": "3.9.7"
  }
 },
 "nbformat": 4,
 "nbformat_minor": 5
}
